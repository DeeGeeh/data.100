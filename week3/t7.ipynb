{
 "cells": [
  {
   "cell_type": "code",
   "execution_count": 4,
   "id": "2f11a075-8cbe-4502-8ac3-3990ff110533",
   "metadata": {},
   "outputs": [],
   "source": [
    "import json\n",
    "import csv\n",
    "import math\n",
    "import matplotlib.pyplot as plt\n",
    "from matplotlib.patches import Polygon"
   ]
  },
  {
   "cell_type": "code",
   "execution_count": 15,
   "id": "d3feeb2b-1b93-464f-b396-15da5ee97528",
   "metadata": {},
   "outputs": [],
   "source": [
    "\n",
    "def deg2num(lat_deg, lon_deg, zoom):\n",
    "    lat_rad = math.radians(lat_deg)\n",
    "    n = 2.0 ** zoom\n",
    "    xtile = (lon_deg + 180.0) / 360.0 * n\n",
    "    ytile = (1.0 - math.log(math.tan(lat_rad) + (1 / math.cos(lat_rad))) / math.pi * n / 2.0)\n",
    "    return (xtile, ytile)\n",
    "\n",
    "# Lue maakuntien rajat\n",
    "with open('maakuntarajat.json', 'r', encoding='utf-8') as f:\n",
    "    maakunnat = json.load(f)\n",
    "\n",
    "# Lue asukastiheydet\n",
    "tiheydet = {}\n",
    "max_tiheys = 0\n",
    "with open('maakuntatiheydet.csv', 'r', encoding='utf-8') as f:\n",
    "    reader = csv.reader(f)\n",
    "    next(reader)  # Ohita otsikkorivi\n",
    "    for row in reader:\n",
    "        nimi = row[0]\n",
    "        tiheys = float(row[1])\n",
    "        tiheydet[nimi] = tiheys\n",
    "        if tiheys > max_tiheys:\n",
    "            max_tiheys = tiheys\n",
    "\n",
    "# Alusta kuva\n",
    "plt.figure()\n",
    "ax = plt.gca()\n",
    "ax.set_aspect('equal', adjustable='box')\n",
    "ax.set_axis_off()\n",
    "\n",
    "# Käy läpi maakunnat ja piirrä polygonit\n",
    "min_x, max_x = float('inf'), -float('inf')\n",
    "min_y, max_y = float('inf'), -float('inf')\n",
    "\n",
    "for nimi, polygonit in maakunnat.items():\n",
    "    tiheys = tiheydet.get(nimi, 0)\n",
    "    harmaasavy = (1 - tiheys / max_tiheys) / 1.05\n",
    "    harmaasavy_str = str(harmaasavy)\n",
    "    \n",
    "    for poly in polygonit:\n",
    "        # Muunna koordinaatit\n",
    "        coords = [deg2num(lat, lon, 14) for lon, lat in poly]\n",
    "        x_coords = [x for x, y in coords]\n",
    "        y_coords = [y for x, y in coords]\n",
    "        \n",
    "        # Päivitä ääriarvot\n",
    "        min_x = min(min_x, min(x_coords))\n",
    "        max_x = max(max_x, max(x_coords))\n",
    "        min_y = min(min_y, min(y_coords))\n",
    "        max_y = max(max_y, max(y_coords))\n",
    "        \n",
    "        # Piirrä polygoni\n",
    "        patch = Polygon(coords, edgecolor=\"white\", facecolor=harmaasavy_str)\n",
    "        ax.add_patch(patch)\n",
    "\n",
    "# Aseta rajat\n",
    "ax.set_xlim(math.floor(min_x), math.ceil(max_x))\n",
    "ax.set_ylim(math.ceil(max_y), math.floor(min_y))\n",
    "\n",
    "# Tallenna kuva\n",
    "plt.savefig(\"suomi.png\", bbox_inches='tight')\n",
    "plt.close()"
   ]
  },
  {
   "cell_type": "code",
   "execution_count": null,
   "id": "0f6555a4-b2ac-4a70-b3b0-858040ca141e",
   "metadata": {},
   "outputs": [],
   "source": []
  },
  {
   "cell_type": "code",
   "execution_count": null,
   "id": "b98571d4-979c-4e7f-8050-5c3913c64f42",
   "metadata": {},
   "outputs": [],
   "source": []
  },
  {
   "cell_type": "code",
   "execution_count": null,
   "id": "d44210fd-abd9-40f4-b3ed-580270dda975",
   "metadata": {},
   "outputs": [],
   "source": []
  }
 ],
 "metadata": {
  "kernelspec": {
   "display_name": "Python 3 (ipykernel)",
   "language": "python",
   "name": "python3"
  },
  "language_info": {
   "codemirror_mode": {
    "name": "ipython",
    "version": 3
   },
   "file_extension": ".py",
   "mimetype": "text/x-python",
   "name": "python",
   "nbconvert_exporter": "python",
   "pygments_lexer": "ipython3",
   "version": "3.10.12"
  }
 },
 "nbformat": 4,
 "nbformat_minor": 5
}
