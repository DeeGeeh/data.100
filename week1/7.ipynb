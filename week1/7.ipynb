{
 "cells": [
  {
   "cell_type": "code",
   "execution_count": 4,
   "metadata": {},
   "outputs": [],
   "source": [
    "import json\n",
    "from sys import argv"
   ]
  },
  {
   "cell_type": "code",
   "execution_count": null,
   "metadata": {},
   "outputs": [],
   "source": [
    "def main():\n",
    "    filename = argv[1] \n",
    "    \n",
    "    #TEST POISTA TÄÄ KU PALAUTTAT\n",
    "    filename = \"countrydata.json\"\n",
    "    # Jatka toteutusta tästä\n",
    "\n",
    "    with open(filename, mode='r') as jsonFile:\n",
    "        data = json.load(jsonFile)\n",
    "\n",
    "        all_regions = set()\n",
    "\n",
    "        for dataType in data:\n",
    "            for region in dataType:\n",
    "                all_regions.add(region)\n",
    "\n",
    "        return print(f\"Dataa löytyi {len(all_regions)} alueelle\")\n",
    "    \n",
    "\n",
    "\n",
    "if __name__ == \"__main__\":\n",
    "    main()"
   ]
  }
 ],
 "metadata": {
  "kernelspec": {
   "display_name": "Python 3",
   "language": "python",
   "name": "python3"
  },
  "language_info": {
   "codemirror_mode": {
    "name": "ipython",
    "version": 3
   },
   "file_extension": ".py",
   "mimetype": "text/x-python",
   "name": "python",
   "nbconvert_exporter": "python",
   "pygments_lexer": "ipython3",
   "version": "3.13.1"
  }
 },
 "nbformat": 4,
 "nbformat_minor": 2
}
