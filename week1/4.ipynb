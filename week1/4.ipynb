{
 "cells": [
  {
   "cell_type": "code",
   "execution_count": 6,
   "id": "211c7484-0eb5-4006-9102-2a2be7c11b9e",
   "metadata": {},
   "outputs": [],
   "source": [
    "import csv"
   ]
  },
  {
   "cell_type": "code",
   "execution_count": 7,
   "id": "a0cf0b68-8f61-4c28-9436-e67110cee0a8",
   "metadata": {},
   "outputs": [],
   "source": [
    "filename = \"Fifa Worldcup 2022.csv\"\n",
    "delimiter = ','"
   ]
  },
  {
   "cell_type": "code",
   "execution_count": null,
   "id": "80e63294-0149-45ed-88da-fcb4e881be9d",
   "metadata": {},
   "outputs": [],
   "source": [
    "class matchGoals():\n",
    "    def __init__(self):\n",
    "        self.goal1 = None\n",
    "        self.goal2 = None"
   ]
  },
  {
   "cell_type": "code",
   "execution_count": 9,
   "id": "fe20f236-0b80-4808-bc46-dbc17297cab6",
   "metadata": {},
   "outputs": [],
   "source": [
    "matchData = {}\n",
    "tieCounter = 0"
   ]
  },
  {
   "cell_type": "code",
   "execution_count": 10,
   "id": "7c07dda0-c209-4712-99ab-be7e65eb24a0",
   "metadata": {},
   "outputs": [
    {
     "name": "stdout",
     "output_type": "stream",
     "text": [
      "Tasatilanteita: 1007\n"
     ]
    }
   ],
   "source": [
    "with open(filename) as csv_file:\n",
    "    reader = csv.DictReader(csv_file, delimiter=delimiter)\n",
    "    \n",
    "    for i in reader:\n",
    "        matchNo = i['Match No.']\n",
    "        goals = i['Goal']\n",
    "\n",
    "        if matchNo not in matchData:\n",
    "            matchData[matchNo] = {\"goal1\": None, \"goal2\": None}\n",
    "\n",
    "        if matchData[matchNo]['goal1'] is None:\n",
    "            matchData[matchNo][\"goal1\"] = goals\n",
    "        else:\n",
    "            matchData[matchNo][\"goal2\"] = goals\n",
    "\n",
    "        # Check for ties\n",
    "        for k, v in matchData.items():\n",
    "            if v['goal1'] == v['goal2']:\n",
    "                tieCounter += 1\n",
    "\n",
    "\n",
    "print(f\"Tasatilanteita: {tieCounter}\")"
   ]
  },
  {
   "cell_type": "code",
   "execution_count": null,
   "id": "bcc70c3c-8825-4381-b7ca-4cff018ef8c8",
   "metadata": {},
   "outputs": [],
   "source": []
  }
 ],
 "metadata": {
  "kernelspec": {
   "display_name": "Python 3",
   "language": "python",
   "name": "python3"
  },
  "language_info": {
   "codemirror_mode": {
    "name": "ipython",
    "version": 3
   },
   "file_extension": ".py",
   "mimetype": "text/x-python",
   "name": "python",
   "nbconvert_exporter": "python",
   "pygments_lexer": "ipython3",
   "version": "3.13.1"
  }
 },
 "nbformat": 4,
 "nbformat_minor": 5
}
