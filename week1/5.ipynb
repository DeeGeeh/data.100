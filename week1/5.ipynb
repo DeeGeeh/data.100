{
 "cells": [
  {
   "cell_type": "code",
   "execution_count": 13,
   "metadata": {},
   "outputs": [],
   "source": [
    "import csv\n",
    "\n",
    "filename = \"Fifa Worldcup 2022.csv\"\n",
    "delimiter = ','\n",
    "matchData = {}"
   ]
  },
  {
   "cell_type": "code",
   "execution_count": 14,
   "metadata": {},
   "outputs": [],
   "source": [
    "def matchGoals():\n",
    "    def __init__(self):\n",
    "        self.goals = 0\n",
    "        self.matchCounter = 0\n"
   ]
  },
  {
   "cell_type": "code",
   "execution_count": null,
   "metadata": {},
   "outputs": [
    {
     "ename": "AttributeError",
     "evalue": "'NoneType' object has no attribute 'goal'",
     "output_type": "error",
     "traceback": [
      "\u001b[31m---------------------------------------------------------------------------\u001b[39m",
      "\u001b[31mAttributeError\u001b[39m                            Traceback (most recent call last)",
      "\u001b[36mCell\u001b[39m\u001b[36m \u001b[39m\u001b[32mIn[15]\u001b[39m\u001b[32m, line 11\u001b[39m\n\u001b[32m      8\u001b[39m         \u001b[38;5;28;01mif\u001b[39;00m matchTeam \u001b[38;5;129;01mnot\u001b[39;00m \u001b[38;5;129;01min\u001b[39;00m matchData:\n\u001b[32m      9\u001b[39m             matchData[matchTeam] = matchGoals()\n\u001b[32m---> \u001b[39m\u001b[32m11\u001b[39m         \u001b[43mmatchData\u001b[49m\u001b[43m[\u001b[49m\u001b[43mmatchTeam\u001b[49m\u001b[43m]\u001b[49m\u001b[43m.\u001b[49m\u001b[43mgoal\u001b[49m += goals\n\u001b[32m     12\u001b[39m         matchData[matchTeam].matchCounter += \u001b[32m1\u001b[39m\n\u001b[32m     15\u001b[39m \u001b[38;5;28mprint\u001b[39m(matchData)\n",
      "\u001b[31mAttributeError\u001b[39m: 'NoneType' object has no attribute 'goal'"
     ]
    }
   ],
   "source": [
    "with open(filename) as csv_file:\n",
    "    reader = csv.DictReader(csv_file, delimiter=delimiter)\n",
    "    \n",
    "    for i in reader:\n",
    "        team = i['Team']\n",
    "        goals = i['Goal']\n",
    "\n",
    "        if team not in matchData:\n",
    "            matchData[team] = matchGoals()\n",
    "\n",
    "        matchData[team].goal += goals\n",
    "        matchData[team].matchCounter += 1\n",
    "\n",
    "\n",
    "print(matchData)\n",
    "\n",
    "\n",
    "    \n"
   ]
  }
 ],
 "metadata": {
  "kernelspec": {
   "display_name": "Python 3",
   "language": "python",
   "name": "python3"
  },
  "language_info": {
   "codemirror_mode": {
    "name": "ipython",
    "version": 3
   },
   "file_extension": ".py",
   "mimetype": "text/x-python",
   "name": "python",
   "nbconvert_exporter": "python",
   "pygments_lexer": "ipython3",
   "version": "3.13.1"
  }
 },
 "nbformat": 4,
 "nbformat_minor": 2
}
