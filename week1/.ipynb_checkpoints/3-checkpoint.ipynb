{
 "cells": [
  {
   "cell_type": "code",
   "execution_count": 2,
   "id": "b2f4ebbc-3a33-4147-9d45-529bbf45c9d5",
   "metadata": {},
   "outputs": [],
   "source": [
    "import csv\n",
    "from sys import argv\n"
   ]
  },
  {
   "cell_type": "code",
   "execution_count": 12,
   "id": "d33880a5-25c2-45c0-b460-4312c40ef574",
   "metadata": {},
   "outputs": [
    {
     "name": "stdout",
     "output_type": "stream",
     "text": [
      "00-01: 282.14\n",
      "01-02: 204.93\n",
      "02-03: 162.84\n",
      "03-04: 145.97\n",
      "04-05: 204.41\n",
      "05-06: 544.66\n",
      "06-07: 1565.73\n",
      "07-08: 2482.08\n",
      "08-09: 2332.19\n",
      "09-10: 2052.74\n",
      "10-11: 2105.61\n",
      "11-12: 2458.90\n",
      "12-13: 2696.08\n",
      "13-14: 2892.23\n",
      "14-15: 3293.80\n",
      "15-16: 4061.25\n",
      "16-17: 4039.04\n",
      "17-18: 3221.19\n",
      "18-19: 2578.14\n",
      "19-20: 1936.04\n",
      "20-21: 1543.71\n",
      "21-22: 1104.98\n",
      "22-23: 727.21\n",
      "23-24: 439.16\n"
     ]
    }
   ],
   "source": [
    "if __name__ == \"__main__\":\n",
    "    argv = [\"\", \"liikenne1.csv\"]\n",
    "    delimiter = \",\"\n",
    "    filename = argv[1]\n",
    "    \n",
    "    with open(filename, newline='', encoding='utf-8') as csv_tiedosto:\n",
    "        lukija = csv.reader(csv_tiedosto, delimiter=';')\n",
    "        header = next(lukija)\n",
    "        \n",
    "        sums = [0] * (len(header) - 9)\n",
    "        count = [0] * (len(header) - 9)\n",
    "\n",
    "        for i in lukija:\n",
    "            for j, val in enumerate(i[8:-1]):\n",
    "                if val.strip() == \"\":\n",
    "                    val = 0;\n",
    "                else:\n",
    "                    try:\n",
    "                        val = int(val)\n",
    "                    except ValueError:\n",
    "                        val = 0\n",
    "\n",
    "                sums[j] += val\n",
    "                count[j] += 1\n",
    "\n",
    "        for x, y in enumerate(header[8:-1]):\n",
    "            formatoitu = y.replace(\"_\", \"-\")\n",
    "            ka = sums[x] / count[x]\n",
    "            print(f\"{formatoitu}: {ka:.2f}\")\n",
    "\n"
   ]
  },
  {
   "cell_type": "code",
   "execution_count": null,
   "id": "931ea2b9-7f7c-4e04-942e-bdead72f5875",
   "metadata": {},
   "outputs": [],
   "source": []
  },
  {
   "cell_type": "code",
   "execution_count": null,
   "id": "72873b36-0014-450e-8c05-594ef55a455b",
   "metadata": {},
   "outputs": [],
   "source": []
  }
 ],
 "metadata": {
  "kernelspec": {
   "display_name": "Python 3 (ipykernel)",
   "language": "python",
   "name": "python3"
  },
  "language_info": {
   "codemirror_mode": {
    "name": "ipython",
    "version": 3
   },
   "file_extension": ".py",
   "mimetype": "text/x-python",
   "name": "python",
   "nbconvert_exporter": "python",
   "pygments_lexer": "ipython3",
   "version": "3.13.1"
  }
 },
 "nbformat": 4,
 "nbformat_minor": 5
}
