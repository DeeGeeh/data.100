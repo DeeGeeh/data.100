{
 "cells": [
  {
   "cell_type": "code",
   "execution_count": 3,
   "id": "7ae653f7-9aa0-42c0-b333-3dd7d7565087",
   "metadata": {},
   "outputs": [],
   "source": [
    "import pandas as pd\n",
    "import numpy as np\n",
    "from sklearn.linear_model import LinearRegression\n",
    "from sklearn.preprocessing import PolynomialFeatures"
   ]
  },
  {
   "cell_type": "code",
   "execution_count": 10,
   "id": "6be8962d-4e8c-49be-b28a-8b5a81136e26",
   "metadata": {},
   "outputs": [],
   "source": [
    "def trafficRegression(filename, D):\n",
    "    # Read the CSV file\n",
    "    df = pd.read_csv(filename, sep=';')\n",
    "    \n",
    "    # Get the hour columns (they are in format HH_HH)\n",
    "    hour_cols = [col for col in df.columns if '_' in col]\n",
    "    \n",
    "    # Create a list to store (hour, traffic) pairs\n",
    "    data = []\n",
    "    \n",
    "    # Process each row and extract hour-traffic pairs\n",
    "    for _, row in df.iterrows():\n",
    "        for hour_col in hour_cols:\n",
    "            # Extract hour from column name (e.g., '00_01' -> 0)\n",
    "            hour = int(hour_col.split('_')[0])\n",
    "            traffic = row[hour_col]\n",
    "            \n",
    "            # Only add if traffic value is not empty/NaN\n",
    "            if pd.notna(traffic):\n",
    "                data.append([hour, traffic])\n",
    "    \n",
    "    # Convert to numpy array\n",
    "    data = np.array(data)\n",
    "    \n",
    "    # Create polynomial features\n",
    "    poly = PolynomialFeatures(degree=D)\n",
    "    X_poly = poly.fit_transform(data[:, 0].reshape(-1, 1))\n",
    "    \n",
    "    # Fit the model\n",
    "    model = LinearRegression()\n",
    "    model.fit(X_poly, data[:, 1])\n",
    "    \n",
    "    # Get coefficients and intercept\n",
    "    coef = model.coef_[1:]  # Skip the first coefficient (it's for x^0)\n",
    "    intercept = model.intercept_\n",
    "    \n",
    "    # Print coefficients in reverse order (highest degree to lowest) and intercept\n",
    "    result = ' '.join([f\"{x:.3f}\" for x in np.concatenate([coef[::-1], [intercept]])])\n",
    "    print(result) "
   ]
  },
  {
   "cell_type": "code",
   "execution_count": 11,
   "id": "427f584b-8de6-4098-bffd-70ede7bd4f85",
   "metadata": {},
   "outputs": [
    {
     "name": "stdout",
     "output_type": "stream",
     "text": [
      "0.109 -6.815 111.812 -306.226 340.916\n"
     ]
    }
   ],
   "source": [
    "trafficRegression(\"liikenne1.csv\", 4)"
   ]
  },
  {
   "cell_type": "code",
   "execution_count": null,
   "id": "aaf04ee3-c86a-47e5-a8d0-6b0bf64b088e",
   "metadata": {},
   "outputs": [],
   "source": []
  }
 ],
 "metadata": {
  "kernelspec": {
   "display_name": "Python 3 (ipykernel)",
   "language": "python",
   "name": "python3"
  },
  "language_info": {
   "codemirror_mode": {
    "name": "ipython",
    "version": 3
   },
   "file_extension": ".py",
   "mimetype": "text/x-python",
   "name": "python",
   "nbconvert_exporter": "python",
   "pygments_lexer": "ipython3",
   "version": "3.13.1"
  }
 },
 "nbformat": 4,
 "nbformat_minor": 5
}
