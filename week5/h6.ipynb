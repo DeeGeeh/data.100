{
 "cells": [
  {
   "cell_type": "code",
   "execution_count": null,
   "metadata": {},
   "outputs": [],
   "source": [
    "from sklearn.cluster import KMeans\n",
    "from PIL import Image\n",
    "import numpy as np"
   ]
  },
  {
   "cell_type": "code",
   "execution_count": 1,
   "metadata": {},
   "outputs": [],
   "source": [
    "def detectDigit(imgfn):\n",
    "    # Read img\n",
    "    img = np.array(Image.open(imgfn))\n",
    "\n",
    "    # Round pixel values\n",
    "    img_rounded = np.round(img, 2)\n",
    "\n",
    "    # Get unique pixel vals\n",
    "    img_flat = img_rounded.reshape(-1, img_rounded.shape[2])\n",
    "    unique_pixels = np.unique(img_flat, axis=0)\n",
    "    unique_pixels_sorted = sorted(unique_pixels.tolist())\n",
    "\n",
    "    # KMeans cluster\n",
    "    kmeans = KMeans(n_clusters=2, random_state=0)\n",
    "    kmeans.fit(unique_pixels_sorted)\n",
    "\n",
    "    pixel_to_cluster = {}\n",
    "    for i, pixel in enumerate(unique_pixels_sorted):\n",
    "        pixel_tuple = tuple(pixel)\n",
    "        pixel_to_cluster[pixel_tuple] = kmeans.labels_[i]\n",
    "    \n",
    "    cluster_counts = {0: 0, 1: 0}\n",
    "\n",
    "    for i in range(img_rounded.shape[0]):\n",
    "        for j in range(img_rounded.shape[1]):\n",
    "            pixel = tuple(img_rounded[i, j])\n",
    "            cluster = pixel_to_cluster[pixel]\n",
    "            cluster_counts[cluster] += 1\n",
    "\n",
    "    background_cluster = 0 if cluster_counts[0] > cluster_counts[1] else 1\n",
    "    digit_cluster = 1 if background_cluster == 0 else 0\n",
    "\n",
    "    bw_img = np.zeros((img.shape[0], img.shape[1]), dtype=np.uint8)\n",
    "\n",
    "    for i in range(img_rounded.shape[0]):\n",
    "        for j in range(img_rounded.shape[1]):\n",
    "            pixel = tuple(img_rounded[i, j])\n",
    "            cluster = pixel_to_cluster[pixel]\n",
    "\n",
    "            if cluster == background_cluster:\n",
    "                bw_img[i, j] = 255\n",
    "            else:\n",
    "                bw_img[i, j] = 0\n",
    "    \n",
    "    return bw_img"
   ]
  },
  {
   "cell_type": "code",
   "execution_count": null,
   "metadata": {},
   "outputs": [],
   "source": [
    "detectDigit(\"0.png\")"
   ]
  }
 ],
 "metadata": {
  "kernelspec": {
   "display_name": ".venv",
   "language": "python",
   "name": "python3"
  },
  "language_info": {
   "codemirror_mode": {
    "name": "ipython",
    "version": 3
   },
   "file_extension": ".py",
   "mimetype": "text/x-python",
   "name": "python",
   "nbconvert_exporter": "python",
   "pygments_lexer": "ipython3",
   "version": "3.10.12"
  }
 },
 "nbformat": 4,
 "nbformat_minor": 2
}
