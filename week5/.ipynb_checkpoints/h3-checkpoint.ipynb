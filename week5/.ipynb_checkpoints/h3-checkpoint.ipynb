{
 "cells": [
  {
   "cell_type": "code",
   "execution_count": 1,
   "id": "ec677714-71e6-4ea8-9f6c-264509f8167b",
   "metadata": {},
   "outputs": [],
   "source": [
    "from sklearn.linear_model import Perceptron\n",
    "\n",
    "def vertigoDiagnosis(traindatafn, testcasefn, testlabelfn):\n",
    "    classifier = Perceptron()\n",
    "    classifier.fit()"
   ]
  },
  {
   "cell_type": "code",
   "execution_count": null,
   "id": "ab6f6040-2d53-448e-bb6b-c7784b757b5d",
   "metadata": {},
   "outputs": [],
   "source": []
  }
 ],
 "metadata": {
  "kernelspec": {
   "display_name": "Python 3 (ipykernel)",
   "language": "python",
   "name": "python3"
  },
  "language_info": {
   "codemirror_mode": {
    "name": "ipython",
    "version": 3
   },
   "file_extension": ".py",
   "mimetype": "text/x-python",
   "name": "python",
   "nbconvert_exporter": "python",
   "pygments_lexer": "ipython3",
   "version": "3.13.1"
  }
 },
 "nbformat": 4,
 "nbformat_minor": 5
}
