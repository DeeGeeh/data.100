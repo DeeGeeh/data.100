{
 "cells": [
  {
   "cell_type": "code",
   "execution_count": 3,
   "id": "44ca5974-9a0a-4937-b8a7-f135ba662386",
   "metadata": {},
   "outputs": [],
   "source": [
    "from sklearn import svm\n",
    "import numpy as np"
   ]
  },
  {
   "cell_type": "code",
   "execution_count": 1,
   "id": "1c9b8eef-48de-439f-baf0-275d76ce350e",
   "metadata": {},
   "outputs": [],
   "source": [
    "gammas=[0.01, 0.001]\n",
    "Cs=[0.75, 1, 1.5]"
   ]
  },
  {
   "cell_type": "code",
   "execution_count": null,
   "id": "2f7687d3-0ca1-4648-801e-c8e468d948b5",
   "metadata": {},
   "outputs": [],
   "source": [
    "\n",
    "def tuneSVC(traindata, trainlabels, testdata, testlabels, gammas, Cs):\n",
    "    best_score = -1\n",
    "    worst_score = float('inf')\n",
    "    best_params = None\n",
    "    worst_params = None\n",
    "    \n",
    "    # Try all combinations of gamma and C\n",
    "    for gamma in gammas:\n",
    "        for c in Cs:\n",
    "            # Initialize and train the classifier\n",
    "            classifier = svm.SVC(gamma=gamma, C=c)\n",
    "            classifier.fit(traindata, trainlabels)\n",
    "            \n",
    "            # Get predictions\n",
    "            predictions = classifier.predict(testdata)\n",
    "            \n",
    "            # Calculate correct and wrong predictions\n",
    "            correct = np.sum(predictions == testlabels)\n",
    "            wrong = len(testlabels) - correct\n",
    "            \n",
    "            # Update best parameters if needed\n",
    "            if correct > best_score:\n",
    "                best_score = correct\n",
    "                best_params = (gamma, c, correct, wrong)\n",
    "            \n",
    "            # Update worst parameters if needed\n",
    "            if correct < worst_score:\n",
    "                worst_score = correct\n",
    "                worst_params = (gamma, c, correct, wrong)\n",
    "    \n",
    "    # Print results\n",
    "    print(f\"Best: {best_params[2]} correct and {best_params[3]} wrong using gamma={best_params[0]} and C={best_params[1]}\")\n",
    "    print(f\"Worst: {worst_params[2]} correct and {worst_params[3]} wrong using gamma={worst_params[0]} and C={worst_params[1]}\") "
   ]
  },
  {
   "cell_type": "code",
   "execution_count": null,
   "id": "adf9a413-0dcd-4c77-ac61-66a59f0cedf3",
   "metadata": {},
   "outputs": [],
   "source": []
  }
 ],
 "metadata": {
  "kernelspec": {
   "display_name": "Python 3 (ipykernel)",
   "language": "python",
   "name": "python3"
  },
  "language_info": {
   "codemirror_mode": {
    "name": "ipython",
    "version": 3
   },
   "file_extension": ".py",
   "mimetype": "text/x-python",
   "name": "python",
   "nbconvert_exporter": "python",
   "pygments_lexer": "ipython3",
   "version": "3.13.1"
  }
 },
 "nbformat": 4,
 "nbformat_minor": 5
}
