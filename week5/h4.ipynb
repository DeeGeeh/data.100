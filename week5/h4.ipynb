{
 "cells": [
  {
   "cell_type": "code",
   "execution_count": 3,
   "id": "8b528be0-7bd3-4d59-ac0e-4389cf2af284",
   "metadata": {},
   "outputs": [],
   "source": [
    "import pandas as pd\n",
    "from sklearn.feature_extraction.text import CountVectorizer\n",
    "from sklearn.preprocessing import LabelEncoder\n",
    "from sklearn.naive_bayes import MultinomialNB\n"
   ]
  },
  {
   "cell_type": "code",
   "execution_count": null,
   "id": "c9465a04",
   "metadata": {},
   "outputs": [],
   "source": [
    "def detectLanguage(texts):\n",
    "    data = pd.read_csv(\"langclass.csv\")\n",
    "    \n",
    "    vectorizer = CountVectorizer()\n",
    "    X = vectorizer.fit_transform(data[\"Text\"])\n",
    "\n",
    "    encoder = LabelEncoder()\n",
    "    y = encoder.fit_transform(data[\"Language\"])\n",
    "\n",
    "    classifier = MultinomialNB()\n",
    "    classifier.fit(X, y)\n",
    "\n",
    "    X_new = vectorizer.transform(texts)\n",
    "\n",
    "    predictions = classifier.predict(X_new)\n",
    "\n",
    "    language_names = encoder.inverse_transform(predictions)\n",
    "    \n",
    "    for lang in language_names:\n",
    "        print(lang)"
   ]
  },
  {
   "cell_type": "code",
   "execution_count": null,
   "id": "8759f3f4",
   "metadata": {},
   "outputs": [],
   "source": []
  }
 ],
 "metadata": {
  "kernelspec": {
   "display_name": ".venv",
   "language": "python",
   "name": "python3"
  },
  "language_info": {
   "codemirror_mode": {
    "name": "ipython",
    "version": 3
   },
   "file_extension": ".py",
   "mimetype": "text/x-python",
   "name": "python",
   "nbconvert_exporter": "python",
   "pygments_lexer": "ipython3",
   "version": "3.10.12"
  }
 },
 "nbformat": 4,
 "nbformat_minor": 5
}
